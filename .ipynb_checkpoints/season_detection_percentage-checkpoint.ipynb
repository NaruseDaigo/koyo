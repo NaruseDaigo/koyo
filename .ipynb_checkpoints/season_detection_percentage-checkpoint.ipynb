{
 "cells": [
  {
   "cell_type": "code",
   "execution_count": 1,
   "metadata": {},
   "outputs": [],
   "source": [
    "# 標準ライブラリ\n",
    "import os\n",
    "import datetime as dt\n",
    "from datetime import timedelta\n",
    "from statistics import mean, median,variance,stdev\n",
    "import itertools\n",
    "# サードパーティライブラリ\n",
    "import numpy as np\n",
    "import burst_detection as bd"
   ]
  },
  {
   "cell_type": "markdown",
   "metadata": {},
   "source": [
    "## 定数"
   ]
  },
  {
   "cell_type": "code",
   "execution_count": 2,
   "metadata": {},
   "outputs": [],
   "source": [
    "RATES = [1, 5, 10, 20] \n",
    "RESULT_DIR = \"/Users/daigo/workspace/koyo/result/\"\n",
    "CORRECTS = {\n",
    "    \"tk\": {\n",
    "        \"kaede\": {\"start\": dt.date(2015, 12, 4), \"end\": dt.date(2015, 12, 12)},\n",
    "        \"icho\": {\"start\": dt.date(2015, 11, 30), \"end\": dt.date(2015, 12, 11)},\n",
    "        \"sonota\": {\"start\": dt.date(2015, 11, 30), \"end\": dt.date(2015, 12, 12)},\n",
    "        \"koyo\": {\"start\": dt.date(2015, 11, 30), \"end\": dt.date(2015, 12, 12)}\n",
    "    },\n",
    "    \"hk\": {\n",
    "        \"kaede\": {\"start\": dt.date(2015, 10, 29), \"end\": dt.date(2015, 11, 29)},\n",
    "        \"icho\": {\"start\": dt.date(2015, 11, 2), \"end\": dt.date(2015, 11, 12)},\n",
    "        \"sonota\": {\"start\": dt.date(2015, 10, 29), \"end\": dt.date(2015, 11, 29)},\n",
    "        \"koyo\": {\"start\": dt.date(2015, 10, 29), \"end\": dt.date(2015, 11, 29)}\n",
    "    },\n",
    "    \"is\": {\n",
    "        \"kaede\": {\"start\": dt.date(2015, 11, 22), \"end\": dt.date(2015, 12, 3)},\n",
    "        \"icho\": {\"start\": dt.date(2015, 11, 4), \"end\": dt.date(2015, 11, 10)},\n",
    "        \"sonota\": {\"start\": dt.date(2015, 11, 4), \"end\": dt.date(2015, 12, 30)},\n",
    "        \"koyo\": {\"start\": dt.date(2015, 11, 4), \"end\": dt.date(2015, 12, 30)}\n",
    "    }\n",
    "}"
   ]
  },
  {
   "cell_type": "markdown",
   "metadata": {},
   "source": [
    "## 関数宣言"
   ]
  },
  {
   "cell_type": "markdown",
   "metadata": {},
   "source": [
    "### 連続した日付データ作成\n",
    "閉区間[start, end]の範囲で出力する"
   ]
  },
  {
   "cell_type": "code",
   "execution_count": 3,
   "metadata": {},
   "outputs": [],
   "source": [
    "def date_range(start, end):\n",
    "    for n in range((end - start).days + 1):\n",
    "        yield start + timedelta(n)"
   ]
  },
  {
   "cell_type": "markdown",
   "metadata": {},
   "source": [
    "### バースト検出"
   ]
  },
  {
   "cell_type": "code",
   "execution_count": 4,
   "metadata": {},
   "outputs": [],
   "source": [
    "def burst_detection(target_counts, total_counts):\n",
    "    #number of target events at each time point\n",
    "    r = np.array(target_counts, dtype=float)\n",
    "    #total number of events at each time point\n",
    "    d = np.array(total_counts, dtype=float)\n",
    "    #number of time points\n",
    "    n = len(r)\n",
    "\n",
    "    q, d, r, p = bd.burst_detection(r,d,n,s=param_s, gamma=param_gamma ,smooth_win=1)\n",
    "    bursts = bd.enumerate_bursts(q, 'burstLabel')\n",
    "\n",
    "    #find weight of bursts\n",
    "    # weighted_bursts = bd.burst_weights(bursts,r,d,p)\n",
    "\n",
    "    \"\"\"\n",
    "    print('observed probabilities: ') \n",
    "    print(str(r/d) )\n",
    "    print( 'optimal state sequence: ')\n",
    "    print(str(q.T) )\n",
    "    print( 'baseline probability: ' + str(p[0]) )\n",
    "    print( 'bursty probability: ' + str(p[1]) )\n",
    "    \"\"\"\n",
    "    \n",
    "    return(q)"
   ]
  },
  {
   "cell_type": "markdown",
   "metadata": {},
   "source": [
    "### 評価"
   ]
  },
  {
   "cell_type": "code",
   "execution_count": 5,
   "metadata": {},
   "outputs": [],
   "source": [
    "def evaluate(dates, correct_dates, burst_result):\n",
    "    return"
   ]
  },
  {
   "cell_type": "markdown",
   "metadata": {},
   "source": [
    "### 見頃plot"
   ]
  },
  {
   "cell_type": "code",
   "execution_count": 6,
   "metadata": {},
   "outputs": [],
   "source": [
    "from matplotlib import pyplot as plt\n",
    "from matplotlib import dates as mdates\n",
    "from matplotlib.dates import DateFormatter\n",
    "import matplotlib.ticker as ticker\n",
    "from matplotlib.dates import date2num\n",
    "\n",
    "def plot_migoro(x, q, pref, flag, rate):\n",
    "    \n",
    "    y_correct = []\n",
    "    if flag == \"koyo\":\n",
    "        for date in x:\n",
    "            if ( CORRECTS[pref][\"kaede\"]['start'] <= date <= CORRECTS[pref][\"kaede\"]['end']\n",
    "                or CORRECTS[pref][\"icho\"]['start'] <= date <= CORRECTS[pref][\"icho\"]['end']):\n",
    "                y_correct.append(1)\n",
    "            else:\n",
    "                y_correct.append(0)\n",
    "    else: \n",
    "        for date in x:\n",
    "            if  CORRECTS[pref][flag]['start'] <= date <= CORRECTS[pref][flag]['end']:\n",
    "                y_correct.append(1)\n",
    "            else: \n",
    "                 y_correct.append(0)\n",
    "\n",
    "    figure_ = plt.figure()  # Figure作成\n",
    "    figure_.text(0.2, 0.5, str(pref) + \": \" + str(flag), fontsize=20)\n",
    "    figure_.text(0.2, 0.4, \"rate = \" + str(rate), fontsize=20)\n",
    "    \n",
    "    axes_ = figure_.add_subplot(111)  # Axes作成\n",
    "    xaxis_ = axes_.xaxis  # XAxis取得\n",
    "    \n",
    "    x_numdate = date2num([\n",
    "        dt.date(2015, 8, 15), \n",
    "        dt.date(2015, 9, 1), dt.date(2015, 9, 15), \n",
    "        dt.date(2015, 10, 1), dt.date(2015, 10, 15), \n",
    "        dt.date(2015, 11, 1), dt.date(2015, 11, 15), \n",
    "        dt.date(2015, 12, 1), dt.date(2015, 12, 15), dt.date(2015, 12, 31)\n",
    "    ])\n",
    "    \n",
    "    axes_.xaxis.set_major_locator(ticker.FixedLocator(x_numdate))\n",
    "    axes_.tick_params(axis='x', rotation=270)\n",
    "    xaxis_.set_major_formatter(DateFormatter('%m-%d'))\n",
    "    \n",
    "    axes_.plot(x, y_correct, label='correct')\n",
    "    axes_.plot(x, q, label='burst')\n",
    "    plt.legend()\n",
    "    \n",
    "    fname = f\"{flag}_{str(rate).zfill(2)}.png\"\n",
    "    out_dir = f\"{RESULT_DIR}graph/{pref}/s{param_s}gamma{param_gamma}/\"\n",
    "    os.makedirs(out_dir, exist_ok=True)\n",
    "    plt.savefig(out_dir + fname)\n",
    "    plt.close()"
   ]
  },
  {
   "cell_type": "markdown",
   "metadata": {},
   "source": [
    "### F値plot"
   ]
  },
  {
   "cell_type": "code",
   "execution_count": 7,
   "metadata": {},
   "outputs": [],
   "source": [
    "def plot_fscore(fscores, RATES):\n",
    "    return"
   ]
  },
  {
   "cell_type": "markdown",
   "metadata": {},
   "source": [
    "# main関数"
   ]
  },
  {
   "cell_type": "markdown",
   "metadata": {},
   "source": [
    "### 変数宣言"
   ]
  },
  {
   "cell_type": "code",
   "execution_count": 8,
   "metadata": {},
   "outputs": [],
   "source": [
    "prefs = ['tk', 'hk', 'is']\n",
    "flags = [\"icho\", \"kaede\", \"sonota\", \"koyo\"] \n",
    "\n",
    "param_s = 2.0\n",
    "param_gamma = 1.0\n",
    "\n",
    "fscores = []\n",
    "\n",
    "end = dt.date(2015, 12, 31)\n",
    "x_axis = [date for date in date_range(dt.date(2015, 10, 1), end)]\n",
    "x_long_axis = [date for date in date_range(dt.date(2015, 8, 15), end)]"
   ]
  },
  {
   "cell_type": "markdown",
   "metadata": {},
   "source": [
    "### ファイル読み込み"
   ]
  },
  {
   "cell_type": "code",
   "execution_count": 9,
   "metadata": {},
   "outputs": [],
   "source": [
    "rtweets_count_dir = RESULT_DIR + \"rtweets_count/\"\n",
    "total_count_dir = RESULT_DIR + \"total_count/\"\n",
    "\n",
    "target_counts = dict()\n",
    "total_counts = dict()\n",
    "\n",
    "for pref in prefs:\n",
    "    target_counts[pref] = {}\n",
    "    for flag in flags:\n",
    "        target_counts[pref].update({flag: []})"
   ]
  },
  {
   "cell_type": "markdown",
   "metadata": {},
   "source": [
    "**target_countsの構造**\n",
    "\n",
    "```\n",
    "target_counts{\n",
    "    pref: {\n",
    "        flag: [] # 要素数10でrate10~100のrtweet_countが入っている。\n",
    "    }\n",
    "}\n",
    "```"
   ]
  },
  {
   "cell_type": "markdown",
   "metadata": {},
   "source": [
    "ややこしい構造なので、クラスを作ってget_count(flag, rate)メソッドで持ってくるようにしたい。\n",
    "\n",
    "```\n",
    "class TweetCount: \n",
    "    def __init__(self, flag, rate, count_list):\n",
    "        if flag == icho:\n",
    "             self.icho = count_list\n",
    "        elif flag == kaede:\n",
    "            self.kaede = count_list\n",
    "        elif flag == koyo:\n",
    "            self.sonota = count_list\n",
    "        elif flag == koyo:\n",
    "            self.koyo = count_list\n",
    "        else:\n",
    "            print(\"error: invalid argument for the class of TweetCount \")\n",
    "            exit(1)\n",
    "    def get_count(self, flag, rate):\n",
    "        return self.flag.rate\n",
    "```\n",
    "　rateまで指定しないで良い気がする。10要素のリストが帰ってくれば良いかも"
   ]
  },
  {
   "cell_type": "code",
   "execution_count": 10,
   "metadata": {},
   "outputs": [
    {
     "ename": "FileNotFoundError",
     "evalue": "[Errno 2] No such file or directory: '/Users/daigo/workspace/koyo/result/rtweets_count/tk_icho_01percent_count.txt'",
     "output_type": "error",
     "traceback": [
      "\u001b[0;31m---------------------------------------------------------------------------\u001b[0m",
      "\u001b[0;31mFileNotFoundError\u001b[0m                         Traceback (most recent call last)",
      "\u001b[0;32m<ipython-input-10-33a8327b4d33>\u001b[0m in \u001b[0;36m<module>\u001b[0;34m\u001b[0m\n\u001b[1;32m      2\u001b[0m     \u001b[0;32mfor\u001b[0m \u001b[0mrate\u001b[0m \u001b[0;32min\u001b[0m \u001b[0mRATES\u001b[0m\u001b[0;34m:\u001b[0m\u001b[0;34m\u001b[0m\u001b[0;34m\u001b[0m\u001b[0m\n\u001b[1;32m      3\u001b[0m         \u001b[0mfilename\u001b[0m \u001b[0;34m=\u001b[0m \u001b[0;34mf\"{pref}_{flag}_{str(rate).zfill(2)}percent_count.txt\"\u001b[0m\u001b[0;34m\u001b[0m\u001b[0;34m\u001b[0m\u001b[0m\n\u001b[0;32m----> 4\u001b[0;31m         \u001b[0;32mwith\u001b[0m \u001b[0mopen\u001b[0m\u001b[0;34m(\u001b[0m\u001b[0mrtweets_count_dir\u001b[0m\u001b[0;34m+\u001b[0m\u001b[0mfilename\u001b[0m\u001b[0;34m,\u001b[0m \u001b[0;34m\"r\"\u001b[0m\u001b[0;34m)\u001b[0m \u001b[0;32mas\u001b[0m \u001b[0mtarget_file\u001b[0m\u001b[0;34m:\u001b[0m\u001b[0;34m\u001b[0m\u001b[0;34m\u001b[0m\u001b[0m\n\u001b[0m\u001b[1;32m      5\u001b[0m              \u001b[0mtarget_counts\u001b[0m\u001b[0;34m[\u001b[0m\u001b[0mpref\u001b[0m\u001b[0;34m]\u001b[0m\u001b[0;34m[\u001b[0m\u001b[0mflag\u001b[0m\u001b[0;34m]\u001b[0m\u001b[0;34m.\u001b[0m\u001b[0mappend\u001b[0m\u001b[0;34m(\u001b[0m\u001b[0;34m[\u001b[0m\u001b[0mline\u001b[0m\u001b[0;34m.\u001b[0m\u001b[0mrstrip\u001b[0m\u001b[0;34m(\u001b[0m\u001b[0;34m'\\n'\u001b[0m\u001b[0;34m)\u001b[0m\u001b[0;34m.\u001b[0m\u001b[0msplit\u001b[0m\u001b[0;34m(\u001b[0m\u001b[0;34m'\\t'\u001b[0m\u001b[0;34m)\u001b[0m\u001b[0;34m[\u001b[0m\u001b[0;36m1\u001b[0m\u001b[0;34m]\u001b[0m \u001b[0;32mfor\u001b[0m \u001b[0mline\u001b[0m \u001b[0;32min\u001b[0m \u001b[0mtarget_file\u001b[0m\u001b[0;34m.\u001b[0m\u001b[0mreadlines\u001b[0m\u001b[0;34m(\u001b[0m\u001b[0;34m)\u001b[0m\u001b[0;34m]\u001b[0m\u001b[0;34m)\u001b[0m\u001b[0;34m\u001b[0m\u001b[0;34m\u001b[0m\u001b[0m\n\u001b[1;32m      6\u001b[0m \u001b[0;34m\u001b[0m\u001b[0m\n",
      "\u001b[0;31mFileNotFoundError\u001b[0m: [Errno 2] No such file or directory: '/Users/daigo/workspace/koyo/result/rtweets_count/tk_icho_01percent_count.txt'"
     ]
    }
   ],
   "source": [
    "for pref, flag in  itertools.product(prefs, flags):\n",
    "    for rate in RATES:\n",
    "        filename = f\"{pref}_{flag}_{str(rate).zfill(2)}percent_count.txt\"\n",
    "        with open(rtweets_count_dir+filename, \"r\") as target_file:\n",
    "             target_counts[pref][flag].append([line.rstrip('\\n').split('\\t')[1] for line in target_file.readlines()])\n",
    "\n",
    "for pref in prefs:\n",
    "    filename = pref + \"_total_dailycount.txt\"\n",
    "    with open(total_count_dir+filename, \"r\") as total_file:\n",
    "        total_counts[pref] = [line.rstrip('\\n').split('\\t')[1] for line in total_file.readlines()]"
   ]
  },
  {
   "cell_type": "markdown",
   "metadata": {},
   "source": [
    "### 処理部"
   ]
  },
  {
   "cell_type": "code",
   "execution_count": null,
   "metadata": {
    "scrolled": true
   },
   "outputs": [],
   "source": [
    "for pref, flag in  itertools.product(prefs, flags):\n",
    "    for i, rate in enumerate(RATES):\n",
    "        q = burst_detection(target_counts[pref][flag] [i], total_counts[pref] )\n",
    "        plot_migoro(x_long_axis, q, pref, flag, rate)\n",
    "        \n",
    "print(\"---------\\n終了---------\\n\")"
   ]
  },
  {
   "cell_type": "markdown",
   "metadata": {},
   "source": [
    "### テスト"
   ]
  },
  {
   "cell_type": "markdown",
   "metadata": {},
   "source": [
    "from pprint import pprint\n",
    "JST = dt.timezone(dt.timedelta(hours=9))\n",
    "tokyo = {\n",
    "\"start\": dt.datetime(2014, 11, 25, tzinfo=JST), \"end\": dt.datetime(2014, 12, 18, tzinfo=JST)\n",
    "}\n",
    "hokkaido = {\n",
    "\"start\": dt.datetime(2014, 10, 30, tzinfo=JST), \"end\": dt.datetime(2014, 11, 3, tzinfo=JST)\n",
    "}\n",
    "ishikawa = {\n",
    "\"start\": dt.datetime(2014, 11, 13, tzinfo=JST), \"end\": dt.datetime(2014, 11, 29, tzinfo=JST)\n",
    "}\n",
    "\n",
    "prefs = [tokyo, hokkaido, ishikawa]\n",
    "\n",
    "for pref in prefs:\n",
    "    duration =  {\n",
    "        \"created_at_iso\": {\n",
    "            '$gte': pref[\"start\"].isoformat(),\n",
    "            '$lt': pref[\"end\"].isoformat()\n",
    "        }\n",
    "    }\n",
    "    season = {\"icho\" : 1}\n",
    "    \n",
    "    season.update(duration)\n",
    "    \n",
    "    pprint(season)"
   ]
  },
  {
   "cell_type": "code",
   "execution_count": null,
   "metadata": {},
   "outputs": [],
   "source": []
  }
 ],
 "metadata": {
  "kernelspec": {
   "display_name": "Python 3",
   "language": "python",
   "name": "python3"
  },
  "language_info": {
   "codemirror_mode": {
    "name": "ipython",
    "version": 3
   },
   "file_extension": ".py",
   "mimetype": "text/x-python",
   "name": "python",
   "nbconvert_exporter": "python",
   "pygments_lexer": "ipython3",
   "version": "3.8.3"
  },
  "toc": {
   "base_numbering": 1,
   "nav_menu": {},
   "number_sections": true,
   "sideBar": true,
   "skip_h1_title": false,
   "title_cell": "Table of Contents",
   "title_sidebar": "Contents",
   "toc_cell": false,
   "toc_position": {
    "height": "calc(100% - 180px)",
    "left": "10px",
    "top": "150px",
    "width": "279.391px"
   },
   "toc_section_display": true,
   "toc_window_display": true
  }
 },
 "nbformat": 4,
 "nbformat_minor": 4
}
