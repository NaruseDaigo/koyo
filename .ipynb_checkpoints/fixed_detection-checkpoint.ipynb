{
 "cells": [
  {
   "cell_type": "code",
   "execution_count": 1,
   "metadata": {},
   "outputs": [],
   "source": [
    "# 標準ライブラリ\n",
    "import datetime as dt\n",
    "from datetime import timedelta\n",
    "from statistics import mean, median,variance,stdev\n",
    "import itertools\n",
    "# サードパーティライブラリ\n",
    "import numpy as np\n",
    "import burst_detection as bd"
   ]
  },
  {
   "cell_type": "markdown",
   "metadata": {},
   "source": [
    "## 定数"
   ]
  },
  {
   "cell_type": "code",
   "execution_count": 2,
   "metadata": {},
   "outputs": [],
   "source": [
    "numofclasses = \"4classes\"\n",
    "result_dir = \"/Users/daigo/workspace/koyo/result/\"\n",
    "CORRECTS = {\n",
    "    \"tk\": {\n",
    "        \"kaede\": {\"start\": dt.date(2015, 12, 4), \"end\": dt.date(2015, 12, 12)},\n",
    "        \"icho\": {\"start\": dt.date(2015, 11, 30), \"end\": dt.date(2015, 12, 11)},\n",
    "        \"sonota\": {\"start\": dt.date(2015, 11, 30), \"end\": dt.date(2015, 12, 12)},\n",
    "        \"koyo\": {\"start\": dt.date(2015, 11, 30), \"end\": dt.date(2015, 12, 12)}\n",
    "    },\n",
    "    \"hk\": {\n",
    "        \"kaede\": {\"start\": dt.date(2015, 10, 29), \"end\": dt.date(2015, 11, 29)},\n",
    "        \"icho\": {\"start\": dt.date(2015, 11, 2), \"end\": dt.date(2015, 11, 12)},\n",
    "        \"sonota\": {\"start\": dt.date(2015, 10, 29), \"end\": dt.date(2015, 11, 29)},\n",
    "        \"koyo\": {\"start\": dt.date(2015, 10, 29), \"end\": dt.date(2015, 11, 29)}\n",
    "    },\n",
    "    \"is\": {\n",
    "        \"kaede\": {\"start\": dt.date(2015, 11, 22), \"end\": dt.date(2015, 12, 3)},\n",
    "        \"icho\": {\"start\": dt.date(2015, 11, 4), \"end\": dt.date(2015, 11, 10)},\n",
    "        \"sonota\": {\"start\": dt.date(2015, 11, 4), \"end\": dt.date(2015, 12, 30)},\n",
    "        \"koyo\": {\"start\": dt.date(2015, 11, 4), \"end\": dt.date(2015, 12, 30)}\n",
    "    }\n",
    "}"
   ]
  },
  {
   "cell_type": "markdown",
   "metadata": {},
   "source": [
    "## 関数宣言"
   ]
  },
  {
   "cell_type": "markdown",
   "metadata": {},
   "source": [
    "### 連続した日付データ作成\n",
    "閉区間[start, end]の範囲で出力する"
   ]
  },
  {
   "cell_type": "code",
   "execution_count": 3,
   "metadata": {},
   "outputs": [],
   "source": [
    "def date_range(start, end):\n",
    "    for n in range((end - start).days + 1):\n",
    "        yield start + timedelta(n)"
   ]
  },
  {
   "cell_type": "markdown",
   "metadata": {},
   "source": [
    "### バースト検出"
   ]
  },
  {
   "cell_type": "code",
   "execution_count": 4,
   "metadata": {},
   "outputs": [],
   "source": [
    "def burst_detection(target_counts, total_counts):\n",
    "    #number of target events at each time point\n",
    "    r = np.array(target_counts, dtype=float)\n",
    "    #total number of events at each time point\n",
    "    d = np.array(total_counts, dtype=float)\n",
    "    #number of time points\n",
    "    n = len(r)\n",
    "\n",
    "    q, d, r, p = bd.burst_detection(r,d,n,s=1.5,gamma=1,smooth_win=1)\n",
    "    bursts = bd.enumerate_bursts(q, 'burstLabel')\n",
    "\n",
    "    #find weight of bursts\n",
    "    # weighted_bursts = bd.burst_weights(bursts,r,d,p)\n",
    "\n",
    "    \"\"\"\n",
    "    print('observed probabilities: ') \n",
    "    print(str(r/d) )\n",
    "    print( 'optimal state sequence: ')\n",
    "    print(str(q.T) )\n",
    "    print( 'baseline probability: ' + str(p[0]) )\n",
    "    print( 'bursty probability: ' + str(p[1]) )\n",
    "    \"\"\"\n",
    "    \n",
    "    return(q)"
   ]
  },
  {
   "cell_type": "markdown",
   "metadata": {},
   "source": [
    "### 評価"
   ]
  },
  {
   "cell_type": "code",
   "execution_count": 5,
   "metadata": {},
   "outputs": [],
   "source": [
    "def evaluate(dates, correct_dates, burst_result):\n",
    "    return"
   ]
  },
  {
   "cell_type": "markdown",
   "metadata": {},
   "source": [
    "### 見頃plot"
   ]
  },
  {
   "cell_type": "code",
   "execution_count": 6,
   "metadata": {},
   "outputs": [],
   "source": [
    "from matplotlib import pyplot as plt\n",
    "from matplotlib import dates as mdates\n",
    "from matplotlib.dates import DateFormatter\n",
    "import matplotlib.ticker as ticker\n",
    "from matplotlib.dates import date2num\n",
    "\n",
    "def plot_migoro(x, y, pref, flag, rate):\n",
    "    \n",
    "    y_correct = []\n",
    "    for date in x:\n",
    "        if date < CORRECTS[pref][flag]['start'] or CORRECTS[pref][flag]['end'] < date:\n",
    "            y_correct.append(0)\n",
    "        elif  CORRECTS[pref][flag]['start'] <= date and date <= CORRECTS[pref][flag]['end']:\n",
    "            y_correct.append(1)\n",
    "\n",
    "    figure_ = plt.figure()  # Figure作成\n",
    "    figure_.text(0.2, 0.5, str(pref) + \": \" + str(flag), fontsize=20)\n",
    "    figure_.text(0.2, 0.4, \"rate = \" + str(rate), fontsize=20)\n",
    "    \n",
    "    axes_ = figure_.add_subplot(111)  # Axes作成\n",
    "    xaxis_ = axes_.xaxis  # XAxis取得\n",
    "    \n",
    "    x_numdate = date2num([\n",
    "        dt.date(2015, 8, 15), \n",
    "        dt.date(2015, 9, 1), dt.date(2015, 9, 15), \n",
    "        dt.date(2015, 10, 1), dt.date(2015, 10, 15), \n",
    "        dt.date(2015, 11, 1), dt.date(2015, 11, 15), \n",
    "        dt.date(2015, 12, 1), dt.date(2015, 12, 15), dt.date(2015, 12, 31)\n",
    "    ])\n",
    "    \n",
    "    axes_.xaxis.set_major_locator(ticker.FixedLocator(x_numdate))\n",
    "    axes_.tick_params(axis='x', rotation=270)\n",
    "    xaxis_.set_major_formatter(DateFormatter('%m-%d'))\n",
    "    \n",
    "    axes_.plot(x, y_correct, label='correct')\n",
    "    axes_.plot(x, q, label='burst')\n",
    "    plt.legend()\n",
    "    \n",
    "    fname = pref + \"_\" + flag + \"_\" + str(rate) + \".png\"\n",
    "    plt.savefig(result_dir+ \"graph/\"+ numofclasses +\"/\" + fname)\n",
    "    plt.close()"
   ]
  },
  {
   "cell_type": "markdown",
   "metadata": {},
   "source": [
    "### F値plot"
   ]
  },
  {
   "cell_type": "code",
   "execution_count": 7,
   "metadata": {},
   "outputs": [],
   "source": [
    "def plot_fscore(fscores, rates):\n",
    "    return"
   ]
  },
  {
   "cell_type": "markdown",
   "metadata": {},
   "source": [
    "# main関数"
   ]
  },
  {
   "cell_type": "markdown",
   "metadata": {},
   "source": [
    "### 変数宣言"
   ]
  },
  {
   "cell_type": "code",
   "execution_count": 8,
   "metadata": {},
   "outputs": [],
   "source": [
    "prefs =['tk']  # ['tk', 'hk', 'is']\n",
    "flags = [\"koyo\"]  # [\"icho\", \"kaede\", \"koyo\"] # \"sonota\"\n",
    "\n",
    "fixed = range(50, 501, 50)\n",
    "fscores = []\n",
    "\n",
    "end = dt.date(2015, 12, 31)\n",
    "x_axis = [date for date in date_range(dt.date(2015, 10, 1), end)]\n",
    "x_long_axis = [date for date in date_range(dt.date(2015, 8, 15), end)]"
   ]
  },
  {
   "cell_type": "markdown",
   "metadata": {},
   "source": [
    "### ファイル読み込み"
   ]
  },
  {
   "cell_type": "code",
   "execution_count": 9,
   "metadata": {},
   "outputs": [],
   "source": [
    "rtweets_count_dir = result_dir + \"rtweets_count/\"+ numofclasses + \"/\"\n",
    "simple_count_dir = result_dir + \"simple_count/\"\n",
    "\n",
    "target_counts = dict()\n",
    "total_counts = dict()\n",
    "\n",
    "for pref in prefs:\n",
    "    target_counts[pref] = {}\n",
    "    for flag in flags:\n",
    "        target_counts[pref].update({flag: []})"
   ]
  },
  {
   "cell_type": "markdown",
   "metadata": {},
   "source": [
    "**target_countsの構造**\n",
    "\n",
    "```\n",
    "target_counts{\n",
    "    pref: {\n",
    "        flag: [] # 要素数10でrate10~100のrtweet_countが入っている。\n",
    "    }\n",
    "}\n",
    "```"
   ]
  },
  {
   "cell_type": "markdown",
   "metadata": {},
   "source": [
    "ややこしい構造なので、クラスを作ってget_count(flag, rate)メソッドで持ってくるようにしたい。\n",
    "\n",
    "```\n",
    "class TweetCount: \n",
    "    def __init__(self, flag, rate, count_list):\n",
    "        if flag == icho:\n",
    "             self.icho = count_list\n",
    "        elif flag == kaede:\n",
    "            self.kaede = count_list\n",
    "        elif flag == koyo:\n",
    "            self.sonota = count_list\n",
    "        elif flag == koyo:\n",
    "            self.koyo = count_list\n",
    "        else:\n",
    "            print(\"error: invalid argument for the class of TweetCount \")\n",
    "            exit(1)\n",
    "    def get_count(self, flag, rate):\n",
    "        return self.flag.rate\n",
    "```\n",
    "　rateまで指定しないで良い気がする。10要素のリストが帰ってくれば良いかも"
   ]
  },
  {
   "cell_type": "code",
   "execution_count": 10,
   "metadata": {},
   "outputs": [],
   "source": [
    "rates = [5]\n",
    "for pref, flag in  itertools.product(prefs, flags):\n",
    "    for rate in rates:\n",
    "        filename = pref + \"_\" + flag +\"_soa\" + str(rate).zfill(2) + \"_count.txt\"\n",
    "        with open(rtweets_count_dir+filename, \"r\") as target_file:\n",
    "             target_counts[pref][flag].append([line.rstrip('\\n').split('\\t')[1] for line in target_file.readlines()])\n",
    "\n",
    "for pref in prefs:\n",
    "    filename = pref + \"_total_dailycount.txt\"\n",
    "    with open(simple_count_dir+filename, \"r\") as total_file:\n",
    "        total_counts[pref] = [line.rstrip('\\n').split('\\t')[1] for line in total_file.readlines()]"
   ]
  },
  {
   "cell_type": "markdown",
   "metadata": {},
   "source": [
    "### 処理部"
   ]
  },
  {
   "cell_type": "code",
   "execution_count": 11,
   "metadata": {
    "scrolled": true
   },
   "outputs": [
    {
     "ename": "FileNotFoundError",
     "evalue": "[Errno 2] No such file or directory: '/Users/daigo/workspace/koyo/result/graph/4classes/tk_koyo_5.png'",
     "output_type": "error",
     "traceback": [
      "\u001b[0;31m---------------------------------------------------------------------------\u001b[0m",
      "\u001b[0;31mFileNotFoundError\u001b[0m                         Traceback (most recent call last)",
      "\u001b[0;32m<ipython-input-11-f89fde0e0449>\u001b[0m in \u001b[0;36m<module>\u001b[0;34m\u001b[0m\n\u001b[1;32m      2\u001b[0m     \u001b[0;32mfor\u001b[0m \u001b[0mi\u001b[0m\u001b[0;34m,\u001b[0m \u001b[0mrate\u001b[0m \u001b[0;32min\u001b[0m \u001b[0menumerate\u001b[0m\u001b[0;34m(\u001b[0m\u001b[0mrates\u001b[0m\u001b[0;34m)\u001b[0m\u001b[0;34m:\u001b[0m\u001b[0;34m\u001b[0m\u001b[0;34m\u001b[0m\u001b[0m\n\u001b[1;32m      3\u001b[0m         \u001b[0mq\u001b[0m \u001b[0;34m=\u001b[0m \u001b[0mburst_detection\u001b[0m\u001b[0;34m(\u001b[0m\u001b[0mtarget_counts\u001b[0m\u001b[0;34m[\u001b[0m\u001b[0mpref\u001b[0m\u001b[0;34m]\u001b[0m\u001b[0;34m[\u001b[0m\u001b[0mflag\u001b[0m\u001b[0;34m]\u001b[0m \u001b[0;34m[\u001b[0m\u001b[0mi\u001b[0m\u001b[0;34m]\u001b[0m\u001b[0;34m,\u001b[0m \u001b[0mtotal_counts\u001b[0m\u001b[0;34m[\u001b[0m\u001b[0mpref\u001b[0m\u001b[0;34m]\u001b[0m \u001b[0;34m)\u001b[0m\u001b[0;34m\u001b[0m\u001b[0;34m\u001b[0m\u001b[0m\n\u001b[0;32m----> 4\u001b[0;31m         \u001b[0mplot_migoro\u001b[0m\u001b[0;34m(\u001b[0m\u001b[0mx_long_axis\u001b[0m\u001b[0;34m,\u001b[0m \u001b[0mq\u001b[0m\u001b[0;34m,\u001b[0m \u001b[0mpref\u001b[0m\u001b[0;34m,\u001b[0m \u001b[0mflag\u001b[0m\u001b[0;34m,\u001b[0m \u001b[0mrate\u001b[0m\u001b[0;34m)\u001b[0m\u001b[0;34m\u001b[0m\u001b[0;34m\u001b[0m\u001b[0m\n\u001b[0m",
      "\u001b[0;32m<ipython-input-6-8075889552e1>\u001b[0m in \u001b[0;36mplot_migoro\u001b[0;34m(x, y, pref, flag, rate)\u001b[0m\n\u001b[1;32m     38\u001b[0m \u001b[0;34m\u001b[0m\u001b[0m\n\u001b[1;32m     39\u001b[0m     \u001b[0mfname\u001b[0m \u001b[0;34m=\u001b[0m \u001b[0mpref\u001b[0m \u001b[0;34m+\u001b[0m \u001b[0;34m\"_\"\u001b[0m \u001b[0;34m+\u001b[0m \u001b[0mflag\u001b[0m \u001b[0;34m+\u001b[0m \u001b[0;34m\"_\"\u001b[0m \u001b[0;34m+\u001b[0m \u001b[0mstr\u001b[0m\u001b[0;34m(\u001b[0m\u001b[0mrate\u001b[0m\u001b[0;34m)\u001b[0m \u001b[0;34m+\u001b[0m \u001b[0;34m\".png\"\u001b[0m\u001b[0;34m\u001b[0m\u001b[0;34m\u001b[0m\u001b[0m\n\u001b[0;32m---> 40\u001b[0;31m     \u001b[0mplt\u001b[0m\u001b[0;34m.\u001b[0m\u001b[0msavefig\u001b[0m\u001b[0;34m(\u001b[0m\u001b[0mresult_dir\u001b[0m\u001b[0;34m+\u001b[0m \u001b[0;34m\"graph/\"\u001b[0m\u001b[0;34m+\u001b[0m \u001b[0mnumofclasses\u001b[0m \u001b[0;34m+\u001b[0m\u001b[0;34m\"/\"\u001b[0m \u001b[0;34m+\u001b[0m \u001b[0mfname\u001b[0m\u001b[0;34m)\u001b[0m\u001b[0;34m\u001b[0m\u001b[0;34m\u001b[0m\u001b[0m\n\u001b[0m\u001b[1;32m     41\u001b[0m     \u001b[0mplt\u001b[0m\u001b[0;34m.\u001b[0m\u001b[0mclose\u001b[0m\u001b[0;34m(\u001b[0m\u001b[0;34m)\u001b[0m\u001b[0;34m\u001b[0m\u001b[0;34m\u001b[0m\u001b[0m\n",
      "\u001b[0;32m/opt/anaconda3/lib/python3.8/site-packages/matplotlib/pyplot.py\u001b[0m in \u001b[0;36msavefig\u001b[0;34m(*args, **kwargs)\u001b[0m\n\u001b[1;32m    721\u001b[0m \u001b[0;32mdef\u001b[0m \u001b[0msavefig\u001b[0m\u001b[0;34m(\u001b[0m\u001b[0;34m*\u001b[0m\u001b[0margs\u001b[0m\u001b[0;34m,\u001b[0m \u001b[0;34m**\u001b[0m\u001b[0mkwargs\u001b[0m\u001b[0;34m)\u001b[0m\u001b[0;34m:\u001b[0m\u001b[0;34m\u001b[0m\u001b[0;34m\u001b[0m\u001b[0m\n\u001b[1;32m    722\u001b[0m     \u001b[0mfig\u001b[0m \u001b[0;34m=\u001b[0m \u001b[0mgcf\u001b[0m\u001b[0;34m(\u001b[0m\u001b[0;34m)\u001b[0m\u001b[0;34m\u001b[0m\u001b[0;34m\u001b[0m\u001b[0m\n\u001b[0;32m--> 723\u001b[0;31m     \u001b[0mres\u001b[0m \u001b[0;34m=\u001b[0m \u001b[0mfig\u001b[0m\u001b[0;34m.\u001b[0m\u001b[0msavefig\u001b[0m\u001b[0;34m(\u001b[0m\u001b[0;34m*\u001b[0m\u001b[0margs\u001b[0m\u001b[0;34m,\u001b[0m \u001b[0;34m**\u001b[0m\u001b[0mkwargs\u001b[0m\u001b[0;34m)\u001b[0m\u001b[0;34m\u001b[0m\u001b[0;34m\u001b[0m\u001b[0m\n\u001b[0m\u001b[1;32m    724\u001b[0m     \u001b[0mfig\u001b[0m\u001b[0;34m.\u001b[0m\u001b[0mcanvas\u001b[0m\u001b[0;34m.\u001b[0m\u001b[0mdraw_idle\u001b[0m\u001b[0;34m(\u001b[0m\u001b[0;34m)\u001b[0m   \u001b[0;31m# need this if 'transparent=True' to reset colors\u001b[0m\u001b[0;34m\u001b[0m\u001b[0;34m\u001b[0m\u001b[0m\n\u001b[1;32m    725\u001b[0m     \u001b[0;32mreturn\u001b[0m \u001b[0mres\u001b[0m\u001b[0;34m\u001b[0m\u001b[0;34m\u001b[0m\u001b[0m\n",
      "\u001b[0;32m/opt/anaconda3/lib/python3.8/site-packages/matplotlib/figure.py\u001b[0m in \u001b[0;36msavefig\u001b[0;34m(self, fname, transparent, **kwargs)\u001b[0m\n\u001b[1;32m   2201\u001b[0m             \u001b[0mself\u001b[0m\u001b[0;34m.\u001b[0m\u001b[0mpatch\u001b[0m\u001b[0;34m.\u001b[0m\u001b[0mset_visible\u001b[0m\u001b[0;34m(\u001b[0m\u001b[0mframeon\u001b[0m\u001b[0;34m)\u001b[0m\u001b[0;34m\u001b[0m\u001b[0;34m\u001b[0m\u001b[0m\n\u001b[1;32m   2202\u001b[0m \u001b[0;34m\u001b[0m\u001b[0m\n\u001b[0;32m-> 2203\u001b[0;31m         \u001b[0mself\u001b[0m\u001b[0;34m.\u001b[0m\u001b[0mcanvas\u001b[0m\u001b[0;34m.\u001b[0m\u001b[0mprint_figure\u001b[0m\u001b[0;34m(\u001b[0m\u001b[0mfname\u001b[0m\u001b[0;34m,\u001b[0m \u001b[0;34m**\u001b[0m\u001b[0mkwargs\u001b[0m\u001b[0;34m)\u001b[0m\u001b[0;34m\u001b[0m\u001b[0;34m\u001b[0m\u001b[0m\n\u001b[0m\u001b[1;32m   2204\u001b[0m \u001b[0;34m\u001b[0m\u001b[0m\n\u001b[1;32m   2205\u001b[0m         \u001b[0;32mif\u001b[0m \u001b[0mframeon\u001b[0m\u001b[0;34m:\u001b[0m\u001b[0;34m\u001b[0m\u001b[0;34m\u001b[0m\u001b[0m\n",
      "\u001b[0;32m/opt/anaconda3/lib/python3.8/site-packages/matplotlib/backend_bases.py\u001b[0m in \u001b[0;36mprint_figure\u001b[0;34m(self, filename, dpi, facecolor, edgecolor, orientation, format, bbox_inches, **kwargs)\u001b[0m\n\u001b[1;32m   2117\u001b[0m \u001b[0;34m\u001b[0m\u001b[0m\n\u001b[1;32m   2118\u001b[0m             \u001b[0;32mtry\u001b[0m\u001b[0;34m:\u001b[0m\u001b[0;34m\u001b[0m\u001b[0;34m\u001b[0m\u001b[0m\n\u001b[0;32m-> 2119\u001b[0;31m                 result = print_method(\n\u001b[0m\u001b[1;32m   2120\u001b[0m                     \u001b[0mfilename\u001b[0m\u001b[0;34m,\u001b[0m\u001b[0;34m\u001b[0m\u001b[0;34m\u001b[0m\u001b[0m\n\u001b[1;32m   2121\u001b[0m                     \u001b[0mdpi\u001b[0m\u001b[0;34m=\u001b[0m\u001b[0mdpi\u001b[0m\u001b[0;34m,\u001b[0m\u001b[0;34m\u001b[0m\u001b[0;34m\u001b[0m\u001b[0m\n",
      "\u001b[0;32m/opt/anaconda3/lib/python3.8/site-packages/matplotlib/backends/backend_agg.py\u001b[0m in \u001b[0;36mprint_png\u001b[0;34m(self, filename_or_obj, metadata, pil_kwargs, *args, **kwargs)\u001b[0m\n\u001b[1;32m    533\u001b[0m         \u001b[0;32melse\u001b[0m\u001b[0;34m:\u001b[0m\u001b[0;34m\u001b[0m\u001b[0;34m\u001b[0m\u001b[0m\n\u001b[1;32m    534\u001b[0m             \u001b[0mrenderer\u001b[0m \u001b[0;34m=\u001b[0m \u001b[0mself\u001b[0m\u001b[0;34m.\u001b[0m\u001b[0mget_renderer\u001b[0m\u001b[0;34m(\u001b[0m\u001b[0;34m)\u001b[0m\u001b[0;34m\u001b[0m\u001b[0;34m\u001b[0m\u001b[0m\n\u001b[0;32m--> 535\u001b[0;31m             \u001b[0;32mwith\u001b[0m \u001b[0mcbook\u001b[0m\u001b[0;34m.\u001b[0m\u001b[0mopen_file_cm\u001b[0m\u001b[0;34m(\u001b[0m\u001b[0mfilename_or_obj\u001b[0m\u001b[0;34m,\u001b[0m \u001b[0;34m\"wb\"\u001b[0m\u001b[0;34m)\u001b[0m \u001b[0;32mas\u001b[0m \u001b[0mfh\u001b[0m\u001b[0;34m:\u001b[0m\u001b[0;34m\u001b[0m\u001b[0;34m\u001b[0m\u001b[0m\n\u001b[0m\u001b[1;32m    536\u001b[0m                 _png.write_png(renderer._renderer, fh, self.figure.dpi,\n\u001b[1;32m    537\u001b[0m                                metadata={**default_metadata, **metadata})\n",
      "\u001b[0;32m/opt/anaconda3/lib/python3.8/contextlib.py\u001b[0m in \u001b[0;36m__enter__\u001b[0;34m(self)\u001b[0m\n\u001b[1;32m    111\u001b[0m         \u001b[0;32mdel\u001b[0m \u001b[0mself\u001b[0m\u001b[0;34m.\u001b[0m\u001b[0margs\u001b[0m\u001b[0;34m,\u001b[0m \u001b[0mself\u001b[0m\u001b[0;34m.\u001b[0m\u001b[0mkwds\u001b[0m\u001b[0;34m,\u001b[0m \u001b[0mself\u001b[0m\u001b[0;34m.\u001b[0m\u001b[0mfunc\u001b[0m\u001b[0;34m\u001b[0m\u001b[0;34m\u001b[0m\u001b[0m\n\u001b[1;32m    112\u001b[0m         \u001b[0;32mtry\u001b[0m\u001b[0;34m:\u001b[0m\u001b[0;34m\u001b[0m\u001b[0;34m\u001b[0m\u001b[0m\n\u001b[0;32m--> 113\u001b[0;31m             \u001b[0;32mreturn\u001b[0m \u001b[0mnext\u001b[0m\u001b[0;34m(\u001b[0m\u001b[0mself\u001b[0m\u001b[0;34m.\u001b[0m\u001b[0mgen\u001b[0m\u001b[0;34m)\u001b[0m\u001b[0;34m\u001b[0m\u001b[0;34m\u001b[0m\u001b[0m\n\u001b[0m\u001b[1;32m    114\u001b[0m         \u001b[0;32mexcept\u001b[0m \u001b[0mStopIteration\u001b[0m\u001b[0;34m:\u001b[0m\u001b[0;34m\u001b[0m\u001b[0;34m\u001b[0m\u001b[0m\n\u001b[1;32m    115\u001b[0m             \u001b[0;32mraise\u001b[0m \u001b[0mRuntimeError\u001b[0m\u001b[0;34m(\u001b[0m\u001b[0;34m\"generator didn't yield\"\u001b[0m\u001b[0;34m)\u001b[0m \u001b[0;32mfrom\u001b[0m \u001b[0;32mNone\u001b[0m\u001b[0;34m\u001b[0m\u001b[0;34m\u001b[0m\u001b[0m\n",
      "\u001b[0;32m/opt/anaconda3/lib/python3.8/site-packages/matplotlib/cbook/__init__.py\u001b[0m in \u001b[0;36mopen_file_cm\u001b[0;34m(path_or_file, mode, encoding)\u001b[0m\n\u001b[1;32m    416\u001b[0m \u001b[0;32mdef\u001b[0m \u001b[0mopen_file_cm\u001b[0m\u001b[0;34m(\u001b[0m\u001b[0mpath_or_file\u001b[0m\u001b[0;34m,\u001b[0m \u001b[0mmode\u001b[0m\u001b[0;34m=\u001b[0m\u001b[0;34m\"r\"\u001b[0m\u001b[0;34m,\u001b[0m \u001b[0mencoding\u001b[0m\u001b[0;34m=\u001b[0m\u001b[0;32mNone\u001b[0m\u001b[0;34m)\u001b[0m\u001b[0;34m:\u001b[0m\u001b[0;34m\u001b[0m\u001b[0;34m\u001b[0m\u001b[0m\n\u001b[1;32m    417\u001b[0m     \u001b[0;34mr\"\"\"Pass through file objects and context-manage `.PathLike`\\s.\"\"\"\u001b[0m\u001b[0;34m\u001b[0m\u001b[0;34m\u001b[0m\u001b[0m\n\u001b[0;32m--> 418\u001b[0;31m     \u001b[0mfh\u001b[0m\u001b[0;34m,\u001b[0m \u001b[0mopened\u001b[0m \u001b[0;34m=\u001b[0m \u001b[0mto_filehandle\u001b[0m\u001b[0;34m(\u001b[0m\u001b[0mpath_or_file\u001b[0m\u001b[0;34m,\u001b[0m \u001b[0mmode\u001b[0m\u001b[0;34m,\u001b[0m \u001b[0;32mTrue\u001b[0m\u001b[0;34m,\u001b[0m \u001b[0mencoding\u001b[0m\u001b[0;34m)\u001b[0m\u001b[0;34m\u001b[0m\u001b[0;34m\u001b[0m\u001b[0m\n\u001b[0m\u001b[1;32m    419\u001b[0m     \u001b[0;32mif\u001b[0m \u001b[0mopened\u001b[0m\u001b[0;34m:\u001b[0m\u001b[0;34m\u001b[0m\u001b[0;34m\u001b[0m\u001b[0m\n\u001b[1;32m    420\u001b[0m         \u001b[0;32mwith\u001b[0m \u001b[0mfh\u001b[0m\u001b[0;34m:\u001b[0m\u001b[0;34m\u001b[0m\u001b[0;34m\u001b[0m\u001b[0m\n",
      "\u001b[0;32m/opt/anaconda3/lib/python3.8/site-packages/matplotlib/cbook/__init__.py\u001b[0m in \u001b[0;36mto_filehandle\u001b[0;34m(fname, flag, return_opened, encoding)\u001b[0m\n\u001b[1;32m    401\u001b[0m             \u001b[0mfh\u001b[0m \u001b[0;34m=\u001b[0m \u001b[0mbz2\u001b[0m\u001b[0;34m.\u001b[0m\u001b[0mBZ2File\u001b[0m\u001b[0;34m(\u001b[0m\u001b[0mfname\u001b[0m\u001b[0;34m,\u001b[0m \u001b[0mflag\u001b[0m\u001b[0;34m)\u001b[0m\u001b[0;34m\u001b[0m\u001b[0;34m\u001b[0m\u001b[0m\n\u001b[1;32m    402\u001b[0m         \u001b[0;32melse\u001b[0m\u001b[0;34m:\u001b[0m\u001b[0;34m\u001b[0m\u001b[0;34m\u001b[0m\u001b[0m\n\u001b[0;32m--> 403\u001b[0;31m             \u001b[0mfh\u001b[0m \u001b[0;34m=\u001b[0m \u001b[0mopen\u001b[0m\u001b[0;34m(\u001b[0m\u001b[0mfname\u001b[0m\u001b[0;34m,\u001b[0m \u001b[0mflag\u001b[0m\u001b[0;34m,\u001b[0m \u001b[0mencoding\u001b[0m\u001b[0;34m=\u001b[0m\u001b[0mencoding\u001b[0m\u001b[0;34m)\u001b[0m\u001b[0;34m\u001b[0m\u001b[0;34m\u001b[0m\u001b[0m\n\u001b[0m\u001b[1;32m    404\u001b[0m         \u001b[0mopened\u001b[0m \u001b[0;34m=\u001b[0m \u001b[0;32mTrue\u001b[0m\u001b[0;34m\u001b[0m\u001b[0;34m\u001b[0m\u001b[0m\n\u001b[1;32m    405\u001b[0m     \u001b[0;32melif\u001b[0m \u001b[0mhasattr\u001b[0m\u001b[0;34m(\u001b[0m\u001b[0mfname\u001b[0m\u001b[0;34m,\u001b[0m \u001b[0;34m'seek'\u001b[0m\u001b[0;34m)\u001b[0m\u001b[0;34m:\u001b[0m\u001b[0;34m\u001b[0m\u001b[0;34m\u001b[0m\u001b[0m\n",
      "\u001b[0;31mFileNotFoundError\u001b[0m: [Errno 2] No such file or directory: '/Users/daigo/workspace/koyo/result/graph/4classes/tk_koyo_5.png'"
     ]
    },
    {
     "data": {
      "image/png": "[encoded data removed]",
      "text/plain": [
       "<Figure size 432x288 with 1 Axes>"
      ]
     },
     "metadata": {
      "needs_background": "light"
     },
     "output_type": "display_data"
    }
   ],
   "source": [
    "for pref, flag in  itertools.product(prefs, flags):\n",
    "    for i, rate in enumerate(rates):\n",
    "        q = burst_detection(target_counts[pref][flag] [i], total_counts[pref] )\n",
    "        plot_migoro(x_long_axis, q, pref, flag, rate)"
   ]
  },
  {
   "cell_type": "markdown",
   "metadata": {},
   "source": [
    "### テスト"
   ]
  },
  {
   "cell_type": "code",
   "execution_count": null,
   "metadata": {},
   "outputs": [],
   "source": [
    "from pprint import pprint\n",
    "JST = dt.timezone(dt.timedelta(hours=9))\n",
    "tokyo = {\n",
    "\"start\": dt.datetime(2014, 11, 25, tzinfo=JST), \"end\": dt.datetime(2014, 12, 18, tzinfo=JST)\n",
    "}\n",
    "hokkaido = {\n",
    "\"start\": dt.datetime(2014, 10, 30, tzinfo=JST), \"end\": dt.datetime(2014, 11, 3, tzinfo=JST)\n",
    "}\n",
    "ishikawa = {\n",
    "\"start\": dt.datetime(2014, 11, 13, tzinfo=JST), \"end\": dt.datetime(2014, 11, 29, tzinfo=JST)\n",
    "}\n",
    "\n",
    "prefs = [tokyo, hokkaido, ishikawa]\n",
    "\n",
    "for pref in prefs:\n",
    "    duration =  {\n",
    "        \"created_at_iso\": {\n",
    "            '$gte': pref[\"start\"].isoformat(),\n",
    "            '$lt': pref[\"end\"].isoformat()\n",
    "        }\n",
    "    }\n",
    "    season = {\"icho\" : 1}\n",
    "    \n",
    "    season.update(duration)\n",
    "    \n",
    "    pprint(season)"
   ]
  },
  {
   "cell_type": "code",
   "execution_count": null,
   "metadata": {},
   "outputs": [],
   "source": []
  }
 ],
 "metadata": {
  "kernelspec": {
   "display_name": "Python 3",
   "language": "python",
   "name": "python3"
  },
  "language_info": {
   "codemirror_mode": {
    "name": "ipython",
    "version": 3
   },
   "file_extension": ".py",
   "mimetype": "text/x-python",
   "name": "python",
   "nbconvert_exporter": "python",
   "pygments_lexer": "ipython3",
   "version": "3.8.3"
  },
  "toc": {
   "base_numbering": 1,
   "nav_menu": {},
   "number_sections": true,
   "sideBar": true,
   "skip_h1_title": false,
   "title_cell": "Table of Contents",
   "title_sidebar": "Contents",
   "toc_cell": false,
   "toc_position": {
    "height": "calc(100% - 180px)",
    "left": "10px",
    "top": "150px",
    "width": "279.391px"
   },
   "toc_section_display": true,
   "toc_window_display": true
  }
 },
 "nbformat": 4,
 "nbformat_minor": 4
}
