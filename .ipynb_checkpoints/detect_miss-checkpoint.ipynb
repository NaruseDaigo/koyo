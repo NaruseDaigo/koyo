{
 "cells": [
  {
   "cell_type": "markdown",
   "metadata": {},
   "source": [
    "### import"
   ]
  },
  {
   "cell_type": "code",
   "execution_count": 1,
   "metadata": {},
   "outputs": [],
   "source": [
    "# 標準ライブラリ\n",
    "import os\n",
    "import datetime as dt\n",
    "from datetime import timedelta\n",
    "from statistics import mean, median,variance,stdev\n",
    "import itertools\n",
    "# サードパーティライブラリ\n",
    "import numpy as np\n",
    "import pandas as pd\n",
    "import burst_detection as bd"
   ]
  },
  {
   "cell_type": "markdown",
   "metadata": {},
   "source": [
    "## 定数"
   ]
  },
  {
   "cell_type": "code",
   "execution_count": 2,
   "metadata": {},
   "outputs": [],
   "source": [
    "FIXED_NUMS = [50, 150, 250, 500]\n",
    "RESULT_DIR = \"/Users/daigo/workspace/koyo/result/\"\n",
    "CORRECTS = {\n",
    "    \"tk\": {\n",
    "        \"kaede\": {\"start\": dt.date(2015, 12, 4), \"end\": dt.date(2015, 12, 12)},\n",
    "        \"icho\": {\"start\": dt.date(2015, 11, 30), \"end\": dt.date(2015, 12, 11)},\n",
    "        # \"sonota\": {\"start\": dt.date(2015, 11, 30), \"end\": dt.date(2015, 12, 12)},\n",
    "        # \"koyo\": {\"start\": dt.date(2015, 11, 30), \"end\": dt.date(2015, 12, 12)}\n",
    "    },\n",
    "    \"hk\": {\n",
    "        \"kaede\": {\"start\": dt.date(2015, 10, 29), \"end\": dt.date(2015, 11, 29)},\n",
    "        \"icho\": {\"start\": dt.date(2015, 11, 2), \"end\": dt.date(2015, 11, 12)},\n",
    "        # \"sonota\": {\"start\": dt.date(2015, 10, 29), \"end\": dt.date(2015, 11, 29)},\n",
    "        # \"koyo\": {\"start\": dt.date(2015, 10, 29), \"end\": dt.date(2015, 11, 29)}\n",
    "    },\n",
    "    \"is\": {\n",
    "        \"kaede\": {\"start\": dt.date(2015, 11, 22), \"end\": dt.date(2015, 12, 3)},\n",
    "        \"icho\": {\"start\": dt.date(2015, 11, 4), \"end\": dt.date(2015, 11, 10)},\n",
    "        # \"sonota\": {\"start\": dt.date(2015, 11, 4), \"end\": dt.date(2015, 12, 30)},\n",
    "        # \"koyo\": {\"start\": dt.date(2015, 11, 4), \"end\": dt.date(2015, 12, 30)}\n",
    "    }\n",
    "}"
   ]
  },
  {
   "cell_type": "markdown",
   "metadata": {},
   "source": [
    "### 連続した日付データ作成 date_range()\n",
    "閉区間[start, end]の範囲で出力する"
   ]
  },
  {
   "cell_type": "code",
   "execution_count": 3,
   "metadata": {},
   "outputs": [],
   "source": [
    "def date_range(start, end):\n",
    "    for n in range((end - start).days + 1):\n",
    "        yield start + timedelta(n)"
   ]
  },
  {
   "cell_type": "markdown",
   "metadata": {},
   "source": [
    "## 変数"
   ]
  },
  {
   "cell_type": "code",
   "execution_count": 4,
   "metadata": {},
   "outputs": [],
   "source": [
    "prefs = ['tk', 'hk', 'is']\n",
    "flags = [\"icho\", \"kaede\", \"sonota\", \"koyo\"] \n",
    "end = dt.date(2015, 12, 31)\n",
    "\n",
    "x_axis = [date for date in date_range(dt.date(2015, 10, 1), end)]\n",
    "x_long_axis = [date for date in date_range(dt.date(2015, 8, 15), end)]\n",
    "dates = x_long_axis  # ここを変えれば期間が変わる（ようにする予定）\n",
    "\n",
    "\n",
    "param_s = 1.5\n",
    "param_gamma = 1.0"
   ]
  },
  {
   "cell_type": "markdown",
   "metadata": {},
   "source": [
    "## 関数宣言"
   ]
  },
  {
   "cell_type": "markdown",
   "metadata": {},
   "source": [
    "### バースト検出"
   ]
  },
  {
   "cell_type": "code",
   "execution_count": 5,
   "metadata": {},
   "outputs": [],
   "source": [
    "def burst_detection(target_counts, total_counts):\n",
    "    #number of target events at each time point\n",
    "    r = np.array(target_counts, dtype=float)\n",
    "    #total number of events at each time point\n",
    "    d = np.array(total_counts, dtype=float)\n",
    "    #number of time points\n",
    "    n = len(r)\n",
    "\n",
    "    q, d, r, p = bd.burst_detection(r,d,n,s=param_s, gamma=param_gamma ,smooth_win=1)\n",
    "    \n",
    "    \"\"\"\n",
    "    bursts = bd.enumerate_bursts(q, 'burstLabel')\n",
    "    \n",
    "    #find weight of bursts\n",
    "    weighted_bursts = bd.burst_weights(bursts,r,d,p)\n",
    "    \n",
    "    print('observed probabilities: ') \n",
    "    print(str(r/d) )\n",
    "    print( 'optimal state sequence: ')\n",
    "    print(str(q.T) )\n",
    "    print( 'baseline probability: ' + str(p[0]) )\n",
    "    print( 'bursty probability: ' + str(p[1]) )\n",
    "    \"\"\"\n",
    "    \n",
    "    return(q)"
   ]
  },
  {
   "cell_type": "markdown",
   "metadata": {},
   "source": [
    "### 見頃plot"
   ]
  },
  {
   "cell_type": "code",
   "execution_count": 6,
   "metadata": {},
   "outputs": [],
   "source": [
    "from matplotlib import pyplot as plt\n",
    "from matplotlib import dates as mdates\n",
    "from matplotlib.dates import DateFormatter\n",
    "import matplotlib.ticker as ticker\n",
    "from matplotlib.dates import date2num\n",
    "\n",
    "def plot_migoro(x, q, pref, flag, fixed_num):\n",
    "    \n",
    "    y_correct = []\n",
    "    if flag == \"sonota\" or flag == \"koyo\":\n",
    "        for date in x:\n",
    "            if ( CORRECTS[pref][\"kaede\"]['start'] <= date <= CORRECTS[pref][\"kaede\"]['end']\n",
    "                or CORRECTS[pref][\"icho\"]['start'] <= date <= CORRECTS[pref][\"icho\"]['end']):\n",
    "                y_correct.append(1)\n",
    "            else:\n",
    "                y_correct.append(0)\n",
    "    else: \n",
    "        for date in x:\n",
    "            if  CORRECTS[pref][flag]['start'] <= date <= CORRECTS[pref][flag]['end']:\n",
    "                y_correct.append(1)\n",
    "            else: \n",
    "                 y_correct.append(0)\n",
    "                    \n",
    "    figure_ = plt.figure()  # Figure作成\n",
    "    figure_.text(0.2, 0.5, str(pref) + \": \" + str(flag), fontsize=20)\n",
    "    figure_.text(0.2, 0.4, \"fixed_num = \" + str(fixed_num), fontsize=20)\n",
    "    \n",
    "    axes_ = figure_.add_subplot(111)  # Axes作成\n",
    "    xaxis_ = axes_.xaxis  # XAxis取得\n",
    "    \n",
    "    x_numdate = date2num([\n",
    "        dt.date(2015, 8, 15), \n",
    "        dt.date(2015, 9, 1), dt.date(2015, 9, 15), \n",
    "        dt.date(2015, 10, 1), dt.date(2015, 10, 15), \n",
    "        dt.date(2015, 11, 1), dt.date(2015, 11, 15), \n",
    "        dt.date(2015, 12, 1), dt.date(2015, 12, 15), dt.date(2015, 12, 31)\n",
    "    ])\n",
    "    \n",
    "    axes_.xaxis.set_major_locator(ticker.FixedLocator(x_numdate))\n",
    "    axes_.tick_params(axis='x', rotation=270)\n",
    "    xaxis_.set_major_formatter(DateFormatter('%m-%d'))\n",
    "    \n",
    "    axes_.plot(x, y_correct, label='correct')\n",
    "    axes_.plot(x, q, label='burst')\n",
    "    plt.legend()\n",
    "    \n",
    "    fname = f\"{flag}_{str(fixed_num).zfill(3)}.png\"\n",
    "    out_dir = f\"{RESULT_DIR}graph/constant/s{param_s}gamma{param_gamma}/{pref}/\"\n",
    "    os.makedirs(out_dir, exist_ok=True)\n",
    "    plt.savefig(out_dir + fname)\n",
    "    # plt.show()\n",
    "    \n",
    "    plt.close()"
   ]
  },
  {
   "cell_type": "markdown",
   "metadata": {},
   "source": [
    "### F値算出<br>evaluate(result, pref, flag)"
   ]
  },
  {
   "cell_type": "code",
   "execution_count": 7,
   "metadata": {},
   "outputs": [],
   "source": [
    "def evaluate(result, pref, flag):        \n",
    "    \"\"\"\n",
    "    tp: true positives\n",
    "    tn: true negatives\n",
    "    fn: false negativess\n",
    "    fp: false positives\n",
    "    \"\"\"\n",
    "    tp, tn, fn, fp = 0, 0, 0, 0\n",
    "    if flag in [\"icho\", \"kaede\"]:\n",
    "        correct_period = [date for date in date_range(CORRECTS[pref][flag]['start'], \\\n",
    "                                                      CORRECTS[pref][flag]['end'])]\n",
    "    else: \n",
    "        icho_period = [date for date in date_range(CORRECTS[pref]['icho']['start'], \\\n",
    "                                                      CORRECTS[pref]['icho']['end'])]\n",
    "        kaede_period = [date for date in date_range(CORRECTS[pref]['kaede']['start'], \\\n",
    "                                                      CORRECTS[pref]['kaede']['end'])]\n",
    "        \n",
    "        correct_period = icho_period + kaede_period\n",
    "        correct_period = list(set(correct_period))\n",
    "        \n",
    "        \n",
    "#         correct_period = []\n",
    "#         for date in icho_period:\n",
    "#             if not( date in correct):\n",
    "#                 correct_period.extend(date)     \n",
    "    for oneday in dates:\n",
    "        if oneday in correct_period:\n",
    "            if result[result['date']==oneday].iloc[0, 1][0] == 1:\n",
    "                tp += 1\n",
    "            elif result[result['date']==oneday].iloc[0, 1][0] == 0:\n",
    "                tn += 1\n",
    "            else:\n",
    "                print(\"error\")\n",
    "        else:\n",
    "            if result[result['date']==oneday].iloc[0, 1][0] == 1:\n",
    "                fp += 1\n",
    "            elif result[result['date']==oneday].iloc[0, 1][0] == 0:\n",
    "                fn += 1\n",
    "            else:\n",
    "                print(\"error\")\n",
    "    \n",
    "    if tp == 0:\n",
    "        recall = precision = fscore = 0\n",
    "    else:\n",
    "        recall = tp / len(correct_period)\n",
    "        precision = tp / (tp + fp)\n",
    "        fscore = (2 * recall * precision) / (recall + precision)\n",
    "    \n",
    "    # 評価値を出す\n",
    "#     print(f\"recall: {recall}\")\n",
    "#     print(f\"precision: {precision}\")\n",
    "    print(f\"F-score: {fscore}\")\n",
    "    \n",
    "    return recall, precision, fscore"
   ]
  },
  {
   "cell_type": "markdown",
   "metadata": {},
   "source": [
    "### F値plot"
   ]
  },
  {
   "cell_type": "code",
   "execution_count": null,
   "metadata": {},
   "outputs": [],
   "source": []
  },
  {
   "cell_type": "code",
   "execution_count": 8,
   "metadata": {},
   "outputs": [],
   "source": [
    "# def plot_fscore(fscore):\n"
   ]
  },
  {
   "cell_type": "markdown",
   "metadata": {},
   "source": [
    "# main関数"
   ]
  },
  {
   "cell_type": "markdown",
   "metadata": {},
   "source": [
    "### ファイル読み込み"
   ]
  },
  {
   "cell_type": "code",
   "execution_count": 11,
   "metadata": {},
   "outputs": [
    {
     "data": {
      "text/plain": [
       "{'icho': [[], [], [], []],\n",
       " 'kaede': [[], [], [], []],\n",
       " 'sonota': [[], [], [], []],\n",
       " 'koyo': [[], [], [], []]}"
      ]
     },
     "execution_count": 11,
     "metadata": {},
     "output_type": "execute_result"
    }
   ],
   "source": [
    "rtweets_count_dir = RESULT_DIR + \"rtweets_count_miss/\"\n",
    "total_count_dir = RESULT_DIR + \"total_count/\"\n",
    "\n",
    "target_counts = dict()\n",
    "total_counts = dict()\n",
    "\n",
    "for pref in prefs:\n",
    "    target_counts[pref] = {}\n",
    "    for flag in flags:\n",
    "        target_counts[pref].update({flag: [[], [], [], []]})\n",
    "        \n",
    "target_counts['tk']"
   ]
  },
  {
   "cell_type": "code",
   "execution_count": 12,
   "metadata": {},
   "outputs": [
    {
     "ename": "FileNotFoundError",
     "evalue": "[Errno 2] No such file or directory: '/Users/daigo/workspace/koyo/result/related_words_miss/tk_icho_050rwords_count.txt'",
     "output_type": "error",
     "traceback": [
      "\u001b[0;31m---------------------------------------------------------------------------\u001b[0m",
      "\u001b[0;31mFileNotFoundError\u001b[0m                         Traceback (most recent call last)",
      "\u001b[0;32m<ipython-input-12-722903912c60>\u001b[0m in \u001b[0;36m<module>\u001b[0;34m\u001b[0m\n\u001b[1;32m      2\u001b[0m     \u001b[0;32mfor\u001b[0m \u001b[0mi\u001b[0m\u001b[0;34m,\u001b[0m \u001b[0mfixed_num\u001b[0m \u001b[0;32min\u001b[0m \u001b[0menumerate\u001b[0m\u001b[0;34m(\u001b[0m\u001b[0mFIXED_NUMS\u001b[0m\u001b[0;34m)\u001b[0m\u001b[0;34m:\u001b[0m\u001b[0;34m\u001b[0m\u001b[0;34m\u001b[0m\u001b[0m\n\u001b[1;32m      3\u001b[0m         \u001b[0mfilename\u001b[0m \u001b[0;34m=\u001b[0m \u001b[0;34mf\"{pref}_{flag}_{str(fixed_num).zfill(3)}rwords_count.txt\"\u001b[0m\u001b[0;34m\u001b[0m\u001b[0;34m\u001b[0m\u001b[0m\n\u001b[0;32m----> 4\u001b[0;31m         \u001b[0;32mwith\u001b[0m \u001b[0mopen\u001b[0m\u001b[0;34m(\u001b[0m\u001b[0mrtweets_count_dir\u001b[0m\u001b[0;34m+\u001b[0m\u001b[0mfilename\u001b[0m\u001b[0;34m,\u001b[0m \u001b[0;34m\"r\"\u001b[0m\u001b[0;34m)\u001b[0m \u001b[0;32mas\u001b[0m \u001b[0mtarget_file\u001b[0m\u001b[0;34m:\u001b[0m\u001b[0;34m\u001b[0m\u001b[0;34m\u001b[0m\u001b[0m\n\u001b[0m\u001b[1;32m      5\u001b[0m              \u001b[0mtarget_counts\u001b[0m\u001b[0;34m[\u001b[0m\u001b[0mpref\u001b[0m\u001b[0;34m]\u001b[0m\u001b[0;34m[\u001b[0m\u001b[0mflag\u001b[0m\u001b[0;34m]\u001b[0m\u001b[0;34m[\u001b[0m\u001b[0mi\u001b[0m\u001b[0;34m]\u001b[0m \u001b[0;34m=\u001b[0m \u001b[0;34m[\u001b[0m\u001b[0mline\u001b[0m\u001b[0;34m.\u001b[0m\u001b[0mrstrip\u001b[0m\u001b[0;34m(\u001b[0m\u001b[0;34m'\\n'\u001b[0m\u001b[0;34m)\u001b[0m\u001b[0;34m.\u001b[0m\u001b[0msplit\u001b[0m\u001b[0;34m(\u001b[0m\u001b[0;34m'\\t'\u001b[0m\u001b[0;34m)\u001b[0m\u001b[0;34m[\u001b[0m\u001b[0;36m1\u001b[0m\u001b[0;34m]\u001b[0m \u001b[0;32mfor\u001b[0m \u001b[0mline\u001b[0m \u001b[0;32min\u001b[0m \u001b[0mtarget_file\u001b[0m\u001b[0;34m.\u001b[0m\u001b[0mreadlines\u001b[0m\u001b[0;34m(\u001b[0m\u001b[0;34m)\u001b[0m\u001b[0;34m]\u001b[0m\u001b[0;34m\u001b[0m\u001b[0;34m\u001b[0m\u001b[0m\n\u001b[1;32m      6\u001b[0m \u001b[0;34m\u001b[0m\u001b[0m\n",
      "\u001b[0;31mFileNotFoundError\u001b[0m: [Errno 2] No such file or directory: '/Users/daigo/workspace/koyo/result/related_words_miss/tk_icho_050rwords_count.txt'"
     ]
    }
   ],
   "source": [
    "for pref, flag in  itertools.product(prefs, flags):\n",
    "    for i, fixed_num in enumerate(FIXED_NUMS):\n",
    "        filename = f\"{pref}_{flag}_{str(fixed_num).zfill(3)}rwords_count.txt\"\n",
    "        with open(rtweets_count_dir+filename, \"r\") as target_file:\n",
    "             target_counts[pref][flag][i] = [line.rstrip('\\n').split('\\t')[1] for line in target_file.readlines()]\n",
    "                \n",
    "for pref in prefs:\n",
    "    filename = pref + \"_total_dailycount.txt\"\n",
    "    with open(total_count_dir+filename, \"r\") as total_file:\n",
    "        total_counts[pref] = [line.rstrip('\\n').split('\\t')[1] for line in total_file.readlines()]"
   ]
  },
  {
   "cell_type": "markdown",
   "metadata": {},
   "source": [
    "### 処理部"
   ]
  },
  {
   "cell_type": "code",
   "execution_count": null,
   "metadata": {},
   "outputs": [],
   "source": [
    "results = pd.DataFrame(columns=[\"pref\", \"flag\", \"fixed_num\", \"recall\", \"precision\", \"fscore\"])"
   ]
  },
  {
   "cell_type": "code",
   "execution_count": null,
   "metadata": {},
   "outputs": [],
   "source": [
    "max_score = pd.DataFrame(0.0, columns=prefs, index=flags)\n",
    "best_fixed_num = pd.DataFrame(0, columns=prefs, index=flags)\n",
    "\n",
    "for pref, flag in itertools.product(prefs, flags):\n",
    "    for i, fixed_num in enumerate(FIXED_NUMS):\n",
    "        q = burst_detection(target_counts[pref][flag][i], total_counts[pref] )\n",
    "        plot_migoro(dates, q, pref, flag, fixed_num)\n",
    "        \n",
    "        q_dateframe = pd.DataFrame([dates, q]).T\n",
    "        \n",
    "        q_dateframe.columns = ['date', 'burst']\n",
    "        recall, precision, fscore = evaluate(q_dateframe, pref, flag)\n",
    "        \n",
    "        if  fscore >= max_score[pref][flag]:\n",
    "            if fscore == max_score[pref][flag] and fscore != 0:\n",
    "                print(\"Maxfscoreが等しい条件があります。このMaxが上書きされなければ、書き直して\")\n",
    "            max_score.at[flag, pref] = fscore\n",
    "            best_fixed_num.at[flag, pref] = fixed_num\n",
    "        \n",
    "        result = pd.Series([pref, flag, fixed_num, recall, precision, fscore], index=results.columns)\n",
    "        results = results.append(result, ignore_index=True)\n",
    "        \n",
    "print(\"---------\\n終了\\n---------\\n\")"
   ]
  },
  {
   "cell_type": "code",
   "execution_count": null,
   "metadata": {},
   "outputs": [],
   "source": [
    "results.to_csv(f\"{RESULT_DIR}graph/constant/s{param_s}gamma{param_gamma}/result.tsv\", sep='\\t')\n",
    "results"
   ]
  },
  {
   "cell_type": "code",
   "execution_count": null,
   "metadata": {},
   "outputs": [],
   "source": [
    "for pref in prefs:\n",
    "    print(f\"{pref} の最大F値\")\n",
    "    for flag in flags:\n",
    "        print(f\"{flag}: {max_score[pref][flag]} ({best_fixed_num[pref][flag]})\")"
   ]
  },
  {
   "cell_type": "markdown",
   "metadata": {},
   "source": [
    "### テスト"
   ]
  },
  {
   "cell_type": "code",
   "execution_count": null,
   "metadata": {},
   "outputs": [],
   "source": []
  },
  {
   "cell_type": "markdown",
   "metadata": {},
   "source": [
    "**target_countsの構造**\n",
    "\n",
    "```\n",
    "target_counts{\n",
    "    pref: {\n",
    "        flag: [] # 要素数10でrate10~100のrtweet_countが入っている。\n",
    "    }\n",
    "}\n",
    "```"
   ]
  }
 ],
 "metadata": {
  "kernelspec": {
   "display_name": "Python 3",
   "language": "python",
   "name": "python3"
  },
  "language_info": {
   "codemirror_mode": {
    "name": "ipython",
    "version": 3
   },
   "file_extension": ".py",
   "mimetype": "text/x-python",
   "name": "python",
   "nbconvert_exporter": "python",
   "pygments_lexer": "ipython3",
   "version": "3.8.3"
  },
  "toc": {
   "base_numbering": 1,
   "nav_menu": {},
   "number_sections": true,
   "sideBar": true,
   "skip_h1_title": false,
   "title_cell": "Table of Contents",
   "title_sidebar": "Contents",
   "toc_cell": false,
   "toc_position": {
    "height": "calc(100% - 180px)",
    "left": "10px",
    "top": "150px",
    "width": "279.391px"
   },
   "toc_section_display": true,
   "toc_window_display": true
  },
  "toc-autonumbering": true,
  "toc-showmarkdowntxt": false
 },
 "nbformat": 4,
 "nbformat_minor": 4
}
