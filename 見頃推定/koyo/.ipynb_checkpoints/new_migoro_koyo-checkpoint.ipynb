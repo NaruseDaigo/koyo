{
 "cells": [
  {
   "cell_type": "code",
   "execution_count": 5,
   "metadata": {},
   "outputs": [],
   "source": [
    "# 標準ライブラリ\n",
    "import datetime as dt\n",
    "from datetime import timedelta\n",
    "from statistics import mean, median,variance,stdev\n",
    "# サードパーティライブラリ\n",
    "import numpy as np\n",
    "from matplotlib import pyplot as plt\n",
    "from matplotlib import dates as mdates\n",
    "import burst_detection as bd"
   ]
  },
  {
   "cell_type": "markdown",
   "metadata": {},
   "source": [
    "### 定数"
   ]
  },
  {
   "cell_type": "code",
   "execution_count": 6,
   "metadata": {},
   "outputs": [],
   "source": [
    "CORRECTS = {\n",
    "    \"hk\": {\n",
    "        \"start\": dt.date(2015, 2, 17), \n",
    "        \"end\": dt.date(2015, 12, 31)\n",
    "    },\n",
    "    \"tk\": {\n",
    "        \"start\": dt.date(2015, 2, 17), \n",
    "        \"end\": dt.date(2015, 12, 31)\n",
    "    },\n",
    "    \"is\": {\n",
    "        \"start\": dt.date(2015, 2, 17), \n",
    "        \"end\": dt.date(2015, 12, 31)\n",
    "    }\n",
    "}"
   ]
  },
  {
   "cell_type": "markdown",
   "metadata": {},
   "source": [
    "### 連続した日付データ作成\n",
    "閉区間[start, end]の範囲で出力する"
   ]
  },
  {
   "cell_type": "code",
   "execution_count": 9,
   "metadata": {},
   "outputs": [],
   "source": [
    "def daterange(start, end):\n",
    "    for n in range((end - start + timedelta(days=1)).days):\n",
    "        yield start + timedelta(n)"
   ]
  },
  {
   "cell_type": "markdown",
   "metadata": {},
   "source": [
    "### バースト検出"
   ]
  },
  {
   "cell_type": "code",
   "execution_count": null,
   "metadata": {},
   "outputs": [],
   "source": [
    "def burst_detection():\n",
    "    #x軸を作成（日付），y軸を作成（件数），\n",
    "    d = date_hit_list(list_d)\n",
    "    dates = d[0]\n",
    "    hits = d[1]\n",
    "\n",
    "    d_all = date_hit_list(list_d_all)\n",
    "    # dates_all = date_hit_list_all[0]\n",
    "    hits_all = d_all[1]\n",
    "    \n",
    "    #number of target events at each time point\n",
    "    r = np.array(hits, dtype=float)\n",
    "    #total number of events at each time point\n",
    "    d = np.array(hits_all, dtype=float)\n",
    "    #number of time points\n",
    "    n = len(r)\n",
    "\n",
    "    q, d, r, p = bd.burst_detection(r,d,n,s=2,gamma=1,smooth_win=1)\n",
    "    bursts = bd.enumerate_bursts(q, 'burstLabel')\n",
    "\n",
    "    #find weight of bursts\n",
    "    weighted_bursts = bd.burst_weights(bursts,r,d,p)\n",
    "\n",
    "    print('observed probabilities: ')\n",
    "    # print(str(r/d) )\n",
    "\n",
    "    print( 'optimal state sequence: ')\n",
    "    print(str(q.T) )\n",
    "\n",
    "    print( 'baseline probability: ' + str(p[0]) )\n",
    "\n",
    "    print( 'bursty probability: ' + str(p[1]) )\n",
    "    \n",
    "    plot_burst(q, dates, pid, rate)\n",
    "    \n",
    "    return(weighted_bursts)"
   ]
  },
  {
   "cell_type": "code",
   "execution_count": null,
   "metadata": {},
   "outputs": [],
   "source": [
    "def evaluate(dates, correct_dates, burst_result):\n",
    "\n",
    "def plot_migoro(date, result, rates):\n",
    "\n",
    "def plot_fscore(fscores, rates):"
   ]
  },
  {
   "cell_type": "markdown",
   "metadata": {},
   "source": [
    "# main関数"
   ]
  },
  {
   "cell_type": "code",
   "execution_count": 7,
   "metadata": {
    "scrolled": false
   },
   "outputs": [
    {
     "ename": "NameError",
     "evalue": "name 'burst_detection' is not defined",
     "output_type": "error",
     "traceback": [
      "\u001b[0;31m---------------------------------------------------------------------------\u001b[0m",
      "\u001b[0;31mNameError\u001b[0m                                 Traceback (most recent call last)",
      "\u001b[0;32m<ipython-input-7-bdcab92a6159>\u001b[0m in \u001b[0;36m<module>\u001b[0;34m\u001b[0m\n\u001b[1;32m      2\u001b[0m \u001b[0;34m\u001b[0m\u001b[0m\n\u001b[1;32m      3\u001b[0m \u001b[0;32mfor\u001b[0m \u001b[0mrate\u001b[0m \u001b[0;32min\u001b[0m \u001b[0mrates\u001b[0m\u001b[0;34m:\u001b[0m\u001b[0;34m\u001b[0m\u001b[0;34m\u001b[0m\u001b[0m\n\u001b[0;32m----> 4\u001b[0;31m     \u001b[0mresult\u001b[0m \u001b[0;34m=\u001b[0m \u001b[0mburst_detection\u001b[0m\u001b[0;34m(\u001b[0m\u001b[0mlist_d\u001b[0m\u001b[0;34m,\u001b[0m \u001b[0mlist_d_all\u001b[0m\u001b[0;34m,\u001b[0m \u001b[0mpref\u001b[0m\u001b[0;34m,\u001b[0m \u001b[0mrate\u001b[0m\u001b[0;34m)\u001b[0m\u001b[0;34m\u001b[0m\u001b[0;34m\u001b[0m\u001b[0m\n\u001b[0m\u001b[1;32m      5\u001b[0m     \u001b[0mfscore\u001b[0m \u001b[0;34m=\u001b[0m\u001b[0mevaluate\u001b[0m\u001b[0;34m(\u001b[0m\u001b[0mdates\u001b[0m\u001b[0;34m,\u001b[0m \u001b[0mcorrect_dates\u001b[0m\u001b[0;34m,\u001b[0m \u001b[0mburst_result\u001b[0m\u001b[0;34m)\u001b[0m\u001b[0;34m\u001b[0m\u001b[0;34m\u001b[0m\u001b[0m\n\u001b[1;32m      6\u001b[0m \u001b[0;34m\u001b[0m\u001b[0m\n",
      "\u001b[0;31mNameError\u001b[0m: name 'burst_detection' is not defined"
     ]
    }
   ],
   "source": [
    "rates = range(10, 101, 10)\n",
    "results = []\n",
    "fscores = []\n",
    "\n",
    "for rate in rates:\n",
    "    result = burst_detection(list_d, list_d_all, pref, rate)\n",
    "    fscore =evaluate(dates, correct_dates, burst_result)\n",
    "    \n",
    "    results.append(result)\n",
    "    fscores.append(fscore)\n",
    "\n",
    "plot_migoro(date, result, rates)\n",
    "plot_fscore(fscores, rates)"
   ]
  }
 ],
 "metadata": {
  "kernelspec": {
   "display_name": "Python 3",
   "language": "python",
   "name": "python3"
  },
  "language_info": {
   "codemirror_mode": {
    "name": "ipython",
    "version": 3
   },
   "file_extension": ".py",
   "mimetype": "text/x-python",
   "name": "python",
   "nbconvert_exporter": "python",
   "pygments_lexer": "ipython3",
   "version": "3.8.3"
  }
 },
 "nbformat": 4,
 "nbformat_minor": 4
}
