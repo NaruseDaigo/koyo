{
 "cells": [
  {
   "cell_type": "code",
   "execution_count": 1,
   "metadata": {},
   "outputs": [
    {
     "name": "stderr",
     "output_type": "stream",
     "text": [
      "/usr/local/lib/python3.7/site-packages/japanize_matplotlib/japanize_matplotlib.py:15: MatplotlibDeprecationWarning: \n",
      "The createFontList function was deprecated in Matplotlib 3.2 and will be removed two minor releases later. Use FontManager.addfont instead.\n",
      "  font_list = font_manager.createFontList(font_files)\n"
     ]
    }
   ],
   "source": [
    "# -*- coding: utf-8 -*-\n",
    "# 必要ライブラリ\n",
    "import numpy as np\n",
    "import pandas as pd\n",
    "import datetime as dt\n",
    "import matplotlib.pyplot as plt\n",
    "import matplotlib.font_manager as fm\n",
    "import japanize_matplotlib\n",
    "from statistics import mean, median,variance,stdev"
   ]
  },
  {
   "cell_type": "markdown",
   "metadata": {},
   "source": [
    "# 移動平均によるバースト"
   ]
  },
  {
   "cell_type": "code",
   "execution_count": 2,
   "metadata": {},
   "outputs": [],
   "source": [
    "def estimate_season(counts, total_avg):\n",
    "    continuous_days = 0\n",
    "    for index, oneday in counts.iterrows():\n",
    "        # counts.iterrows()はビューではなくコピーを返すので、直接加えても元のcountsには追加されない。\n",
    "        \n",
    "        if oneday['7日移動平均'] >= oneday['30日移動平均']:\n",
    "            continuous_days += 1\n",
    "            if oneday['前日の関連ツイート数'] >= total_avg \\\n",
    "                and continuous_days >= 3.5:\n",
    "                    counts.at[index, '見頃判断'] = 1 \n",
    "            else:\n",
    "                counts.at[index, '見頃判断'] = 0\n",
    "        else:\n",
    "            continuous_days = 0\n",
    "            counts.at[index, '見頃判断'] = 0"
   ]
  },
  {
   "cell_type": "markdown",
   "metadata": {},
   "source": [
    "# main()"
   ]
  },
  {
   "cell_type": "code",
   "execution_count": 3,
   "metadata": {},
   "outputs": [],
   "source": [
    "START_DATE = dt.date(2015, 10, 1) # plotする期間\n",
    "END_DATE = dt.date(2015, 12,31)"
   ]
  },
  {
   "cell_type": "code",
   "execution_count": 4,
   "metadata": {},
   "outputs": [],
   "source": [
    "counts = pd.read_table('./out/daily_count_tk_icho.tsv', names=('月', '日', '関連ツイート数'), header=None)"
   ]
  },
  {
   "cell_type": "code",
   "execution_count": 5,
   "metadata": {},
   "outputs": [],
   "source": [
    "# '月'カラムと'日'カラムが別れているので、まとめてdate型の一つのdatetime型カラムにする。\n",
    "counts['年月日'] = pd.to_datetime('2015-'+ counts['月'].astype(str) + '-'+ counts['日'].astype(str))\n",
    "counts = counts.drop(columns=['月', '日'])\n",
    "counts = counts.set_index('年月日')\n"
   ]
  },
  {
   "cell_type": "code",
   "execution_count": 6,
   "metadata": {
    "scrolled": true
   },
   "outputs": [],
   "source": [
    "# 本来なら1年移動平均だが、データ期間全体(2/17~12/31)の平均を使っている。\n",
    "total_avg = counts['関連ツイート数'].mean()"
   ]
  },
  {
   "cell_type": "code",
   "execution_count": 7,
   "metadata": {},
   "outputs": [],
   "source": [
    "counts['7日移動平均'] = counts['関連ツイート数'].rolling(7, min_periods=1).mean().shift()\n",
    "counts['30日移動平均'] = counts['関連ツイート数'].rolling(30, min_periods=1).mean().shift()\n",
    "\"\"\"\n",
    "ただの移動平均だと、その日にちの関連ツイート数まで平均に含まれている。\n",
    "本来なら、1日前~n日前の移動平均をその日に入れる。\n",
    "なので、shift()で一行ずらしている。\n",
    "\"\"\"\n",
    "counts['前日の関連ツイート数']  = counts['関連ツイート数'].shift()"
   ]
  },
  {
   "cell_type": "code",
   "execution_count": 8,
   "metadata": {},
   "outputs": [],
   "source": [
    "estimate_season(counts, total_avg)\n",
    "# print(counts.query('見頃判断 == 1'))"
   ]
  },
  {
   "cell_type": "code",
   "execution_count": 20,
   "metadata": {
    "scrolled": true
   },
   "outputs": [],
   "source": [
    "\n",
    "\"\"\"# プロット\n",
    "ax.bar(x, creature.counts , width=0.6, label='関連ツイート数')\n",
    "ax.plot(x, y_days_total,  'k--', label='1年移動平均)\n",
    "ax.plot(x, y_days_7, 'g', label='7日移動平均')\n",
    "ax.plot(x,y_days_30, 'y--', label='30日移動平均')\n",
    "\n",
    "for inter in inters:\n",
    "    if inter[0] in x:\n",
    "        ax.axvspan(inter[0], inter[1], alpha=0.4, color=\"r\", label='見頃')\n",
    "\n",
    "ax.tick_params(axis='both',labelsize=9)\n",
    "\n",
    "ax.legend()\n",
    "\n",
    "fig.autofmt_xdate()\n",
    "plt.savefig(\"tk_plot.png\")\"\"\"\n",
    "\n",
    "%matplotlib inline"
   ]
  },
  {
   "cell_type": "code",
   "execution_count": 51,
   "metadata": {},
   "outputs": [
    {
     "data": {
      "text/plain": [
       "<matplotlib.axes._subplots.AxesSubplot at 0x11a3cc790>"
      ]
     },
     "execution_count": 51,
     "metadata": {},
     "output_type": "execute_result"
    },
    {
     "data": {
      "image/png": "[encoded data removed]",
      "text/plain": [
       "<Figure size 432x288 with 1 Axes>"
      ]
     },
     "metadata": {
      "needs_background": "light"
     },
     "output_type": "display_data"
    }
   ],
   "source": [
    "axis = counts[START_DATE : END_DATE].plot(y=\"7日移動平均\")\n",
    "counts[START_DATE : END_DATE].plot.bar(y=\"関連ツイート数\", ax=axis)\n",
    "\n",
    "# counts[START_DATE : END_DATE].plot(y=\"30日移動平均\")"
   ]
  },
  {
   "cell_type": "code",
   "execution_count": null,
   "metadata": {},
   "outputs": [],
   "source": []
  }
 ],
 "metadata": {
  "kernelspec": {
   "display_name": "Python 3",
   "language": "python",
   "name": "python3"
  },
  "language_info": {
   "codemirror_mode": {
    "name": "ipython",
    "version": 3
   },
   "file_extension": ".py",
   "mimetype": "text/x-python",
   "name": "python",
   "nbconvert_exporter": "python",
   "pygments_lexer": "ipython3",
   "version": "3.7.7"
  }
 },
 "nbformat": 4,
 "nbformat_minor": 4
}
